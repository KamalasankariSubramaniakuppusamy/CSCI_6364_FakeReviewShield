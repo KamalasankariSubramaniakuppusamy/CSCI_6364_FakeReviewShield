{
  "nbformat": 4,
  "nbformat_minor": 0,
  "metadata": {
    "colab": {
      "provenance": []
    },
    "kernelspec": {
      "name": "python3",
      "display_name": "Python 3"
    },
    "language_info": {
      "name": "python"
    }
  },
  "cells": [
    {
      "cell_type": "code",
      "source": [
        "!pip install pandas"
      ],
      "metadata": {
        "colab": {
          "base_uri": "https://localhost:8080/"
        },
        "id": "yj66rEANnN_o",
        "outputId": "1c81f3ff-cc17-4876-ebe5-4d7cce564f25"
      },
      "execution_count": 2,
      "outputs": [
        {
          "output_type": "stream",
          "name": "stdout",
          "text": [
            "Requirement already satisfied: pandas in /usr/local/lib/python3.11/dist-packages (2.2.2)\n",
            "Requirement already satisfied: numpy>=1.23.2 in /usr/local/lib/python3.11/dist-packages (from pandas) (2.0.2)\n",
            "Requirement already satisfied: python-dateutil>=2.8.2 in /usr/local/lib/python3.11/dist-packages (from pandas) (2.8.2)\n",
            "Requirement already satisfied: pytz>=2020.1 in /usr/local/lib/python3.11/dist-packages (from pandas) (2025.2)\n",
            "Requirement already satisfied: tzdata>=2022.7 in /usr/local/lib/python3.11/dist-packages (from pandas) (2025.2)\n",
            "Requirement already satisfied: six>=1.5 in /usr/local/lib/python3.11/dist-packages (from python-dateutil>=2.8.2->pandas) (1.17.0)\n"
          ]
        }
      ]
    },
    {
      "cell_type": "code",
      "source": [
        "import pandas as pd\n",
        "import os"
      ],
      "metadata": {
        "id": "3IG-6wKQnK_4"
      },
      "execution_count": 3,
      "outputs": []
    },
    {
      "cell_type": "code",
      "execution_count": null,
      "metadata": {
        "id": "jqhXMetvmAV8"
      },
      "outputs": [],
      "source": [
        "def merge_csv_files(input_folder, output_csv_path):\n",
        "  \"\"\"\n",
        "    Goes through a folder, finds all CSV files, reads them into DataFrames,\n",
        "    merges them all together, and saves one big CSV file.\n",
        "\n",
        "    Args:\n",
        "        input_folder (str): The path to the folder containing your CSV files.\n",
        "        output_csv_path (str): The full path (including filename) for the merged CSV output.\n",
        "\n",
        "    Returns:\n",
        "        None. Just saves the merged CSV file.\n",
        "    \"\"\"\n",
        "    # List to hold all DataFrames that we’ll combine\n",
        "\n",
        "    dfs = []\n",
        "    # Loop through all files in the folder\n",
        "\n",
        "    for file_name in os.listdir(input_folder):\n",
        "      # Only work with CSV files\n",
        "        if file_name.endswith('.csv'):\n",
        "            file_path = os.path.join(input_folder, file_name)\n",
        "            try:\n",
        "              # Try to read the CSV file\n",
        "                df = pd.read_csv(file_path)\n",
        "                # Only add it if it's not completely empty\n",
        "                if not df.empty:\n",
        "                    dfs.append(df)\n",
        "                else:\n",
        "                    print(f\"Skipped empty file: {file_name}\")\n",
        "            except pd.errors.EmptyDataError:\n",
        "              # If it's unreadable or malformed, skip it\n",
        "                print(f\"Skipped empty or malformed file: {file_name}\")\n",
        "\n",
        "    # Once we’ve gathered everything, merge and save\n",
        "    if dfs:\n",
        "        # Combine into one big DataFrame\n",
        "        merged_df = pd.concat(dfs, ignore_index=True)\n",
        "        # Save to CSV without row numbers\n",
        "        merged_df.to_csv(output_csv_path, index=False)\n",
        "        print(f\"Merged CSV saved at: {output_csv_path}\")\n",
        "    else:\n",
        "        print(\"No valid CSV files found to merge.\")\n",
        "\n",
        "# Example usage: Just plug in the folder where your separate CSVs are\n",
        "input_folder = '/content/drive/MyDrive/GW Semesters/Sem 2/ML by Prof Shi Feng/ML Sem Project - Fake Review Detector/FakeReviewShield/Final Datasets'\n",
        "# Your folder path\n",
        "output_csv_path = '/content/drive/MyDrive/GW Semesters/Sem 2/ML by Prof Shi Feng/ML Sem Project - Fake Review Detector/FakeReviewShield/Final Datasets/merged_output.csv'\n",
        "\n",
        "# Run the merging function\n",
        "merge_csv_files(input_folder, output_csv_path)\n"
      ]
    }
  ]
}